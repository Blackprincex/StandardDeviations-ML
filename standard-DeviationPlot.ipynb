{
 "cells": [
  {
   "cell_type": "markdown",
   "metadata": {},
   "source": [
    "# Finding Standard deviation of a set of DATA and ploting it as a distribution."
   ]
  },
  {
   "cell_type": "code",
   "execution_count": 1,
   "metadata": {},
   "outputs": [
    {
     "name": "stdout",
     "output_type": "stream",
     "text": [
      "-- The mean of the data is '30.0'\n",
      "-- The standard deviation of the set of data is '70.71067811865476'\n"
     ]
    },
    {
     "data": {
      "image/png": "[encoded data removed]",
      "text/plain": [
       "<Figure size 432x288 with 1 Axes>"
      ]
     },
     "metadata": {
      "needs_background": "light"
     },
     "output_type": "display_data"
    }
   ],
   "source": [
    "import numpy as np\n",
    "import matplotlib.pyplot as plt\n",
    "%matplotlib inline\n",
    "\n",
    "# use this code if you want to provide your own data\n",
    "\n",
    "\"\"\"a = []\n",
    "number = int(input(\"enter the len of list: \"))\n",
    "i = 0\n",
    "\n",
    "while i < number:\n",
    "    value = float(input(\"value: \"))\n",
    "    a.append(value)\n",
    "    i += 1\n",
    "\"\"\"\n",
    "\n",
    "arr = np.arange(-20, 100, 100) # specify your own range here if you want to. \n",
    "\n",
    "mean = arr.mean()\n",
    "print(\"-- The mean of the data is '{}'\".format(mean))\n",
    "sub = (arr - mean)**2\n",
    "inline = sum(sub)\n",
    "\n",
    "sigma = (inline / (len(arr) - 1))**0.5 # find the standard deviation\n",
    "print(\"-- The standard deviation of the set of data is '{}'\".format(sigma))\n",
    "\n",
    "graph = np.random.normal(mean, sigma, 10000)\n",
    "plt.hist(graph, bins=50, density=1)\n",
    "plt.show()"
   ]
  },
  {
   "cell_type": "markdown",
   "metadata": {},
   "source": [
    "### The equation used :\n",
    "\n",
    "![optional tag](images/standard.png)"
   ]
  },
  {
   "cell_type": "markdown",
   "metadata": {},
   "source": [
    "#### code by the ``Black Prince``"
   ]
  },
  {
   "cell_type": "code",
   "execution_count": null,
   "metadata": {},
   "outputs": [],
   "source": []
  }
 ],
 "metadata": {
  "kernelspec": {
   "display_name": "Python 3",
   "language": "python",
   "name": "python3"
  },
  "language_info": {
   "codemirror_mode": {
    "name": "ipython",
    "version": 3
   },
   "file_extension": ".py",
   "mimetype": "text/x-python",
   "name": "python",
   "nbconvert_exporter": "python",
   "pygments_lexer": "ipython3",
   "version": "3.5.3"
  }
 },
 "nbformat": 4,
 "nbformat_minor": 4
}
